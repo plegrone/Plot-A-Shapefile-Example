{
 "cells": [
  {
   "cell_type": "code",
   "execution_count": 154,
   "metadata": {},
   "outputs": [],
   "source": [
    "import pandas as pd"
   ]
  },
  {
   "cell_type": "code",
   "execution_count": 155,
   "metadata": {},
   "outputs": [],
   "source": [
    "import matplotlib.pyplot as plt"
   ]
  },
  {
   "cell_type": "code",
   "execution_count": 156,
   "metadata": {},
   "outputs": [],
   "source": [
    "from arcgis.gis import GIS\n",
    "from arcgis.features import SpatialDataFrame"
   ]
  },
  {
   "cell_type": "code",
   "execution_count": 157,
   "metadata": {},
   "outputs": [],
   "source": [
    "gis = GIS(\"https://www.arcgis.com\", \"legrone.p_NU\", \"Ramones1234!\")"
   ]
  },
  {
   "cell_type": "code",
   "execution_count": 158,
   "metadata": {},
   "outputs": [
    {
     "data": {
      "text/plain": [
       "[<Item title:\"Irving_Texas_Multifamily_Fires_2014\" type:Feature Layer Collection owner:legrone.p_NU>]"
      ]
     },
     "execution_count": 158,
     "metadata": {},
     "output_type": "execute_result"
    }
   ],
   "source": [
    "search_results = gis.content.search(query='title: \"Irving_Texas_Multifamily_Fires_2014\" AND type: \"Feature Service\"')\n",
    "search_results"
   ]
  },
  {
   "cell_type": "code",
   "execution_count": 159,
   "metadata": {},
   "outputs": [
    {
     "data": {
      "text/plain": [
       "<FeatureLayer url:\"https://services1.arcgis.com/KUeKSLlMUcWvuPRM/arcgis/rest/services/Irving_Texas_Multifamily_Fires_2014/FeatureServer/0\">"
      ]
     },
     "execution_count": 159,
     "metadata": {},
     "output_type": "execute_result"
    }
   ],
   "source": [
    "feature_service_item = search_results[0]\n",
    "feature_layer = feature_service_item.layers[0]\n",
    "feature_layer"
   ]
  },
  {
   "cell_type": "code",
   "execution_count": 160,
   "metadata": {},
   "outputs": [
    {
     "data": {
      "text/html": [
       "<div>\n",
       "<style scoped>\n",
       "    .dataframe tbody tr th:only-of-type {\n",
       "        vertical-align: middle;\n",
       "    }\n",
       "\n",
       "    .dataframe tbody tr th {\n",
       "        vertical-align: top;\n",
       "    }\n",
       "\n",
       "    .dataframe thead th {\n",
       "        text-align: right;\n",
       "    }\n",
       "</style>\n",
       "<table border=\"1\" class=\"dataframe\">\n",
       "  <thead>\n",
       "    <tr style=\"text-align: right;\">\n",
       "      <th></th>\n",
       "      <th>AESFailure</th>\n",
       "      <th>AESOperate</th>\n",
       "      <th>AESPresenc</th>\n",
       "      <th>AESType</th>\n",
       "      <th>APT</th>\n",
       "      <th>AlarmDate</th>\n",
       "      <th>AlarmTime</th>\n",
       "      <th>Alarm_Date</th>\n",
       "      <th>Alarm_Time</th>\n",
       "      <th>ArrivDate</th>\n",
       "      <th>...</th>\n",
       "      <th>PropertyLo</th>\n",
       "      <th>PropertyUs</th>\n",
       "      <th>ResponseTi</th>\n",
       "      <th>SHAPE</th>\n",
       "      <th>STR_AESOPE</th>\n",
       "      <th>STR_AESPRE</th>\n",
       "      <th>STR_STATUS</th>\n",
       "      <th>STR_TYPE</th>\n",
       "      <th>SpinklerPr</th>\n",
       "      <th>TotalMinut</th>\n",
       "    </tr>\n",
       "  </thead>\n",
       "  <tbody>\n",
       "    <tr>\n",
       "      <th>0</th>\n",
       "      <td></td>\n",
       "      <td></td>\n",
       "      <td>None Present</td>\n",
       "      <td></td>\n",
       "      <td>10417</td>\n",
       "      <td>2014-05-16</td>\n",
       "      <td>13:46</td>\n",
       "      <td>NaT</td>\n",
       "      <td></td>\n",
       "      <td>NaT</td>\n",
       "      <td>...</td>\n",
       "      <td>1000000.0</td>\n",
       "      <td>Multifamily dwellings</td>\n",
       "      <td>6.0</td>\n",
       "      <td>{\"x\": -10792834.509437136, \"y\": 3888140.489763...</td>\n",
       "      <td></td>\n",
       "      <td>N</td>\n",
       "      <td>2.0</td>\n",
       "      <td>1.0</td>\n",
       "      <td>0.0</td>\n",
       "      <td>410.0</td>\n",
       "    </tr>\n",
       "    <tr>\n",
       "      <th>1</th>\n",
       "      <td></td>\n",
       "      <td></td>\n",
       "      <td>None Present</td>\n",
       "      <td></td>\n",
       "      <td>218</td>\n",
       "      <td>2014-12-30</td>\n",
       "      <td>23:09</td>\n",
       "      <td>NaT</td>\n",
       "      <td></td>\n",
       "      <td>NaT</td>\n",
       "      <td>...</td>\n",
       "      <td>7000.0</td>\n",
       "      <td>Multifamily dwellings</td>\n",
       "      <td>6.0</td>\n",
       "      <td>{\"x\": -10790666.23295956, \"y\": 3872025.0510805...</td>\n",
       "      <td></td>\n",
       "      <td>N</td>\n",
       "      <td>2.0</td>\n",
       "      <td>1.0</td>\n",
       "      <td>0.0</td>\n",
       "      <td>95.0</td>\n",
       "    </tr>\n",
       "    <tr>\n",
       "      <th>2</th>\n",
       "      <td></td>\n",
       "      <td></td>\n",
       "      <td>None Present</td>\n",
       "      <td></td>\n",
       "      <td>204</td>\n",
       "      <td>2014-01-06</td>\n",
       "      <td>15:20</td>\n",
       "      <td>NaT</td>\n",
       "      <td></td>\n",
       "      <td>NaT</td>\n",
       "      <td>...</td>\n",
       "      <td>50000.0</td>\n",
       "      <td>Multifamily dwellings</td>\n",
       "      <td>5.0</td>\n",
       "      <td>{\"x\": -10792560.606160248, \"y\": 3872238.165148...</td>\n",
       "      <td></td>\n",
       "      <td>N</td>\n",
       "      <td>2.0</td>\n",
       "      <td>1.0</td>\n",
       "      <td>0.0</td>\n",
       "      <td>246.0</td>\n",
       "    </tr>\n",
       "    <tr>\n",
       "      <th>3</th>\n",
       "      <td></td>\n",
       "      <td></td>\n",
       "      <td>None Present</td>\n",
       "      <td></td>\n",
       "      <td></td>\n",
       "      <td>2014-05-05</td>\n",
       "      <td>22:08</td>\n",
       "      <td>NaT</td>\n",
       "      <td></td>\n",
       "      <td>NaT</td>\n",
       "      <td>...</td>\n",
       "      <td>506250.0</td>\n",
       "      <td>Multifamily dwellings</td>\n",
       "      <td>4.0</td>\n",
       "      <td>{\"x\": -10791616.57301844, \"y\": 3872400.6432508...</td>\n",
       "      <td></td>\n",
       "      <td>N</td>\n",
       "      <td>2.0</td>\n",
       "      <td>1.0</td>\n",
       "      <td>0.0</td>\n",
       "      <td>240.0</td>\n",
       "    </tr>\n",
       "    <tr>\n",
       "      <th>4</th>\n",
       "      <td></td>\n",
       "      <td></td>\n",
       "      <td>None Present</td>\n",
       "      <td></td>\n",
       "      <td>3212</td>\n",
       "      <td>2014-02-07</td>\n",
       "      <td>08:45</td>\n",
       "      <td>NaT</td>\n",
       "      <td></td>\n",
       "      <td>NaT</td>\n",
       "      <td>...</td>\n",
       "      <td>2000.0</td>\n",
       "      <td>Multifamily dwellings</td>\n",
       "      <td>3.0</td>\n",
       "      <td>{\"x\": -10791956.737107152, \"y\": 3886384.049401...</td>\n",
       "      <td></td>\n",
       "      <td>N</td>\n",
       "      <td>2.0</td>\n",
       "      <td>1.0</td>\n",
       "      <td>0.0</td>\n",
       "      <td>511.0</td>\n",
       "    </tr>\n",
       "  </tbody>\n",
       "</table>\n",
       "<p>5 rows × 69 columns</p>\n",
       "</div>"
      ],
      "text/plain": [
       "  AESFailure AESOperate    AESPresenc AESType    APT  AlarmDate AlarmTime  \\\n",
       "0                        None Present          10417 2014-05-16     13:46   \n",
       "1                        None Present            218 2014-12-30     23:09   \n",
       "2                        None Present            204 2014-01-06     15:20   \n",
       "3                        None Present                2014-05-05     22:08   \n",
       "4                        None Present           3212 2014-02-07     08:45   \n",
       "\n",
       "  Alarm_Date Alarm_Time ArrivDate  ... PropertyLo             PropertyUs  \\\n",
       "0        NaT                  NaT  ...  1000000.0  Multifamily dwellings   \n",
       "1        NaT                  NaT  ...     7000.0  Multifamily dwellings   \n",
       "2        NaT                  NaT  ...    50000.0  Multifamily dwellings   \n",
       "3        NaT                  NaT  ...   506250.0  Multifamily dwellings   \n",
       "4        NaT                  NaT  ...     2000.0  Multifamily dwellings   \n",
       "\n",
       "  ResponseTi                                              SHAPE STR_AESOPE  \\\n",
       "0        6.0  {\"x\": -10792834.509437136, \"y\": 3888140.489763...              \n",
       "1        6.0  {\"x\": -10790666.23295956, \"y\": 3872025.0510805...              \n",
       "2        5.0  {\"x\": -10792560.606160248, \"y\": 3872238.165148...              \n",
       "3        4.0  {\"x\": -10791616.57301844, \"y\": 3872400.6432508...              \n",
       "4        3.0  {\"x\": -10791956.737107152, \"y\": 3886384.049401...              \n",
       "\n",
       "  STR_AESPRE STR_STATUS STR_TYPE SpinklerPr TotalMinut  \n",
       "0          N        2.0      1.0        0.0      410.0  \n",
       "1          N        2.0      1.0        0.0       95.0  \n",
       "2          N        2.0      1.0        0.0      246.0  \n",
       "3          N        2.0      1.0        0.0      240.0  \n",
       "4          N        2.0      1.0        0.0      511.0  \n",
       "\n",
       "[5 rows x 69 columns]"
      ]
     },
     "execution_count": 160,
     "metadata": {},
     "output_type": "execute_result"
    }
   ],
   "source": [
    "sdf = pd.DataFrame.spatial.from_layer(feature_layer)\n",
    "sdf.head()"
   ]
  },
  {
   "cell_type": "code",
   "execution_count": 161,
   "metadata": {},
   "outputs": [
    {
     "data": {
      "text/plain": [
       "<matplotlib.axes._subplots.AxesSubplot at 0x29ef85de5c0>"
      ]
     },
     "execution_count": 161,
     "metadata": {},
     "output_type": "execute_result"
    },
    {
     "data": {
      "image/png": "[encoded data removed]",
      "text/plain": [
       "<Figure size 432x288 with 1 Axes>"
      ]
     },
     "metadata": {
      "needs_background": "light"
     },
     "output_type": "display_data"
    }
   ],
   "source": [
    "sdf.plot(kind='line',x='AlarmDate',y='TotalMinut')"
   ]
  }
 ],
 "metadata": {
  "kernelspec": {
   "display_name": "Python 3",
   "language": "python",
   "name": "python3"
  },
  "language_info": {
   "codemirror_mode": {
    "name": "ipython",
    "version": 3
   },
   "file_extension": ".py",
   "mimetype": "text/x-python",
   "name": "python",
   "nbconvert_exporter": "python",
   "pygments_lexer": "ipython3",
   "version": "3.7.3"
  }
 },
 "nbformat": 4,
 "nbformat_minor": 2
}
